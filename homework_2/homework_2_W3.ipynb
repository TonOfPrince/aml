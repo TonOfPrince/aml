{
 "cells": [
  {
   "cell_type": "code",
   "execution_count": 45,
   "metadata": {
    "collapsed": true
   },
   "outputs": [],
   "source": [
    "import numpy as np\n",
    "from numpy import dot, diag, matrix\n",
    "import math\n",
    "from scipy.linalg import eig "
   ]
  },
  {
   "cell_type": "code",
   "execution_count": 8,
   "metadata": {},
   "outputs": [
    {
     "name": "stdout",
     "output_type": "stream",
     "text": [
      "[[ 1  0  3]\n",
      " [ 3  7  2]\n",
      " [ 2 -2  8]\n",
      " [ 0 -1  1]\n",
      " [ 5  8  7]]\n",
      "[[ 1  3  2  0  5]\n",
      " [ 0  7 -2 -1  8]\n",
      " [ 3  2  8  1  7]]\n",
      "[[ 39  57  60]\n",
      " [ 57 118  53]\n",
      " [ 60  53 127]]\n",
      "[[ 10   9  26   3  26]\n",
      " [  9  62   8  -5  85]\n",
      " [ 26   8  72  10  50]\n",
      " [  3  -5  10   2  -1]\n",
      " [ 26  85  50  -1 138]]\n",
      "[  2.14670489e+02+0.j   9.32587341e-15+0.j   6.93295108e+01+0.j]\n",
      "[[ 0.42615127  0.90453403 -0.01460404]\n",
      " [ 0.61500884 -0.30151134 -0.72859799]\n",
      " [ 0.66344497 -0.30151134  0.68478587]]\n",
      "[  2.14670489e+02+0.j  -8.88178420e-16+0.j   6.93295108e+01+0.j\n",
      "  -3.34838281e-15+0.j   7.47833227e-16+0.j]\n",
      "[[-0.16492942 -0.95539856  0.24497323 -0.54001979 -0.78501713]\n",
      " [-0.47164732 -0.03481209 -0.45330644 -0.62022234  0.30294097]\n",
      " [-0.33647055  0.27076072  0.82943965 -0.12704172  0.2856551 ]\n",
      " [-0.00330585  0.04409532  0.16974659  0.16015949  0.43709105]\n",
      " [-0.79820031  0.10366268 -0.13310656  0.53095405 -0.13902319]]\n"
     ]
    }
   ],
   "source": [
    "M = matrix('1 0 3; 3 7 2; 2 -2 8; 0 -1 1; 5 8 7')\n",
    "MT = M.transpose()\n",
    "MTM = dot(MT, M)\n",
    "MMT = dot(M, MT)\n",
    "print(M)\n",
    "print(MT)\n",
    "print(MTM)\n",
    "print(MMT)\n",
    "MTMe = eig(MTM)\n",
    "MMTe = eig(MMT)\n",
    "print(MTMe[0])\n",
    "print(MTMe[1])\n",
    "print(MMTe[0])\n",
    "print(MMTe[1])"
   ]
  },
  {
   "cell_type": "code",
   "execution_count": null,
   "metadata": {
    "collapsed": true
   },
   "outputs": [],
   "source": [
    "print(dot([[-0.16492942, -0.24497323,  0.9484818,   0.02118387, -0.11278259]\n",
    " [-0.47164732,  0.45330644 -0.05608348  0.10308932 -0.74718761]\n",
    " [-0.33647055 -0.82943965 -0.30370469 -0.15189627 -0.28897825]\n",
    " [-0.00330585 -0.16974659 -0.06169017  0.98276291  0.03932632]\n",
    " [-0.79820031  0.13310656 -0.0345644  -0.00533186  0.58646038]], [  1.46516378e+01,   8.32643446e+00, 0]))"
   ]
  },
  {
   "cell_type": "code",
   "execution_count": 35,
   "metadata": {},
   "outputs": [
    {
     "name": "stdout",
     "output_type": "stream",
     "text": [
      "[[-0.16492942 -0.24497323  0.9484818   0.02118387 -0.11278259]\n",
      " [-0.47164732  0.45330644 -0.05608348  0.10308932 -0.74718761]\n",
      " [-0.33647055 -0.82943965 -0.30370469 -0.15189627 -0.28897825]\n",
      " [-0.00330585 -0.16974659 -0.06169017  0.98276291  0.03932632]\n",
      " [-0.79820031  0.13310656 -0.0345644  -0.00533186  0.58646038]]\n",
      "[  1.46516378e+01   8.32643446e+00   1.73274791e-15]\n",
      "[[-0.42615127 -0.61500884 -0.66344497]\n",
      " [ 0.01460404  0.72859799 -0.68478587]\n",
      " [-0.90453403  0.30151134  0.30151134]]\n"
     ]
    }
   ],
   "source": [
    "from numpy.linalg import svd\n",
    "\n",
    "u, sig, vt = svd(M)\n",
    "print(u)\n",
    "print(sig)\n",
    "print(vt)"
   ]
  },
  {
   "cell_type": "code",
   "execution_count": 36,
   "metadata": {},
   "outputs": [
    {
     "name": "stdout",
     "output_type": "stream",
     "text": [
      "[ 14.65163776   8.32643446   0.        ]\n"
     ]
    }
   ],
   "source": [
    "sig[2] = 0\n",
    "print(sig)"
   ]
  },
  {
   "cell_type": "code",
   "execution_count": 37,
   "metadata": {},
   "outputs": [
    {
     "name": "stdout",
     "output_type": "stream",
     "text": [
      "[[ 14.65163776   0.           0.        ]\n",
      " [  0.           8.32643446   0.        ]\n",
      " [  0.           0.           0.        ]]\n"
     ]
    }
   ],
   "source": [
    "sig = diag(sig)\n",
    "print(sig)"
   ]
  },
  {
   "cell_type": "code",
   "execution_count": 38,
   "metadata": {},
   "outputs": [
    {
     "name": "stdout",
     "output_type": "stream",
     "text": [
      "[ 14.65163776   0.           0.           0.           8.32643446   0.           0.\n",
      "   0.           0.           0.           0.           0.           0.           0.\n",
      "   0.        ]\n"
     ]
    }
   ],
   "source": [
    "sig = np.append(sig, [0,0,0])\n",
    "sig = np.append(sig, [0,0,0])\n",
    "print(sig)"
   ]
  },
  {
   "cell_type": "code",
   "execution_count": 40,
   "metadata": {},
   "outputs": [
    {
     "name": "stdout",
     "output_type": "stream",
     "text": [
      "[[ 14.65163776   0.           0.        ]\n",
      " [  0.           8.32643446   0.        ]\n",
      " [  0.           0.           0.        ]\n",
      " [  0.           0.           0.        ]\n",
      " [  0.           0.           0.        ]]\n"
     ]
    }
   ],
   "source": [
    "sig = sig.reshape(5,3)\n",
    "print(sig)"
   ]
  },
  {
   "cell_type": "code",
   "execution_count": 44,
   "metadata": {},
   "outputs": [
    {
     "name": "stdout",
     "output_type": "stream",
     "text": [
      "[[ 14.65163776   0.           0.        ]\n",
      " [  0.           8.32643446   0.        ]\n",
      " [  0.           0.           0.        ]\n",
      " [  0.           0.           0.        ]\n",
      " [  0.           0.           0.        ]]\n",
      "[[  1.00000000e+00   1.55431223e-15   3.00000000e+00]\n",
      " [  3.00000000e+00   7.00000000e+00   2.00000000e+00]\n",
      " [  2.00000000e+00  -2.00000000e+00   8.00000000e+00]\n",
      " [ -1.04083409e-16  -1.00000000e+00   1.00000000e+00]\n",
      " [  5.00000000e+00   8.00000000e+00   7.00000000e+00]]\n"
     ]
    }
   ],
   "source": [
    "\n",
    "print(sig)\n",
    "firstDot = dot(sig, vt)\n",
    "newM = dot(u, firstDot)\n",
    "print(newM)"
   ]
  }
 ],
 "metadata": {
  "kernelspec": {
   "display_name": "Python 3",
   "language": "python",
   "name": "python3"
  },
  "language_info": {
   "codemirror_mode": {
    "name": "ipython",
    "version": 3
   },
   "file_extension": ".py",
   "mimetype": "text/x-python",
   "name": "python",
   "nbconvert_exporter": "python",
   "pygments_lexer": "ipython3",
   "version": "3.6.1"
  }
 },
 "nbformat": 4,
 "nbformat_minor": 2
}
