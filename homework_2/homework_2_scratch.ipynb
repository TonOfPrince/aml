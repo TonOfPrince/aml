{
 "cells": [
  {
   "cell_type": "code",
   "execution_count": 5,
   "metadata": {
    "collapsed": true
   },
   "outputs": [],
   "source": [
    "import numpy as np\n",
    "import math\n",
    "from scipy.linalg import eig "
   ]
  },
  {
   "cell_type": "code",
   "execution_count": 6,
   "metadata": {},
   "outputs": [
    {
     "name": "stdout",
     "output_type": "stream",
     "text": [
      "[[ 1  0  3]\n",
      " [ 3  7  2]\n",
      " [ 2 -2  8]\n",
      " [ 0 -1  1]\n",
      " [ 5  8  7]]\n",
      "[[ 1  3  2  0  5]\n",
      " [ 0  7 -2 -1  8]\n",
      " [ 3  2  8  1  7]]\n",
      "[[ 39  57  60]\n",
      " [ 57 118  53]\n",
      " [ 60  53 127]]\n",
      "[[ 10   9  26   3  26]\n",
      " [  9  62   8  -5  85]\n",
      " [ 26   8  72  10  50]\n",
      " [  3  -5  10   2  -1]\n",
      " [ 26  85  50  -1 138]]\n",
      "(array([  2.14670489e+02+0.j,   9.32587341e-15+0.j,   6.93295108e+01+0.j]), array([[ 0.42615127,  0.90453403, -0.01460404],\n",
      "       [ 0.61500884, -0.30151134, -0.72859799],\n",
      "       [ 0.66344497, -0.30151134,  0.68478587]]))\n"
     ]
    }
   ],
   "source": [
    "M = np.matrix('1 0 3; 3 7 2; 2 -2 8; 0 -1 1; 5 8 7')\n",
    "MT = M.transpose()\n",
    "MTM = np.dot(MT, M)\n",
    "MMT = np.dot(M, MT)\n",
    "print(M)\n",
    "print(MT)\n",
    "print(MTM)\n",
    "print(MMT)\n",
    "MTMe = eig(MTM)\n",
    "print(MTMe)"
   ]
  }
 ],
 "metadata": {
  "kernelspec": {
   "display_name": "Python 3",
   "language": "python",
   "name": "python3"
  },
  "language_info": {
   "codemirror_mode": {
    "name": "ipython",
    "version": 3
   },
   "file_extension": ".py",
   "mimetype": "text/x-python",
   "name": "python",
   "nbconvert_exporter": "python",
   "pygments_lexer": "ipython3",
   "version": "3.6.1"
  }
 },
 "nbformat": 4,
 "nbformat_minor": 2
}
